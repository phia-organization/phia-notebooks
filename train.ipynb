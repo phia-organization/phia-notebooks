{
 "cells": [
  {
   "cell_type": "markdown",
   "id": "a41c2711",
   "metadata": {},
   "source": [
    "### Generate Dataset"
   ]
  },
  {
   "cell_type": "markdown",
   "id": "5be67be0",
   "metadata": {},
   "source": [
    "Before running the pipeline, make sure to **generate the dataset** file:\n",
    "`artifacts/dataset.csv`\n",
    "\n",
    "You can do this using the **Dataset Build** section in the notebook:\n",
    "`phia.ipynb`"
   ]
  },
  {
   "cell_type": "markdown",
   "id": "ab1a4bd5",
   "metadata": {},
   "source": []
  }
 ],
 "metadata": {
  "kernelspec": {
   "display_name": "phia-notebooks",
   "language": "python",
   "name": "python3"
  },
  "language_info": {
   "name": "python",
   "version": "3.10.12"
  }
 },
 "nbformat": 4,
 "nbformat_minor": 5
}
